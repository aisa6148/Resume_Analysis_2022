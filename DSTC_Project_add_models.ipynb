{
  "nbformat": 4,
  "nbformat_minor": 0,
  "metadata": {
    "colab": {
      "provenance": []
    },
    "kernelspec": {
      "name": "python3",
      "display_name": "Python 3"
    },
    "language_info": {
      "name": "python"
    }
  },
  "cells": [
    {
      "cell_type": "markdown",
      "source": [
        "**Resume Analysis**\n",
        "\n",
        "Our ideas was to crawl data from LinkedIn and use that data to find top profile matches for a particualr job description.\n",
        "\n",
        "Challenges we faced:\n",
        "\n",
        "1. LinkedIn API was very restricted to crawl all the profile data that we are looking for\n",
        "\n",
        "2. Crawling data from LinkedIn, even with LinkedIn premium has many restrictions. LinkedIn blocks the profile after certain number of views\n",
        "\n",
        "3. Crawling LinkedIn using a dummy profile was not useful as not all profile is visible to a dummy profile.\n",
        "\n",
        "So we had to settle for an existing dataset in Kaggle."
      ],
      "metadata": {
        "id": "FCP5xNcNiWgU"
      }
    },
    {
      "cell_type": "code",
      "execution_count": null,
      "metadata": {
        "colab": {
          "base_uri": "https://localhost:8080/",
          "height": 206
        },
        "id": "Q2PUn20tUfzz",
        "outputId": "6a9ab86f-1200-4041-884c-959997fa1a2a"
      },
      "outputs": [
        {
          "output_type": "execute_result",
          "data": {
            "text/plain": [
              "       Category                                             Resume\n",
              "0  Data Science  Skills * Programming Languages: Python (pandas...\n",
              "1  Data Science  Education Details \\r\\nMay 2013 to May 2017 B.E...\n",
              "2  Data Science  Areas of Interest Deep Learning, Control Syste...\n",
              "3  Data Science  Skills â¢ R â¢ Python â¢ SAP HANA â¢ Table...\n",
              "4  Data Science  Education Details \\r\\n MCA   YMCAUST,  Faridab..."
            ],
            "text/html": [
              "\n",
              "  <div id=\"df-143c8808-0d41-4440-99ff-f339bb072318\">\n",
              "    <div class=\"colab-df-container\">\n",
              "      <div>\n",
              "<style scoped>\n",
              "    .dataframe tbody tr th:only-of-type {\n",
              "        vertical-align: middle;\n",
              "    }\n",
              "\n",
              "    .dataframe tbody tr th {\n",
              "        vertical-align: top;\n",
              "    }\n",
              "\n",
              "    .dataframe thead th {\n",
              "        text-align: right;\n",
              "    }\n",
              "</style>\n",
              "<table border=\"1\" class=\"dataframe\">\n",
              "  <thead>\n",
              "    <tr style=\"text-align: right;\">\n",
              "      <th></th>\n",
              "      <th>Category</th>\n",
              "      <th>Resume</th>\n",
              "    </tr>\n",
              "  </thead>\n",
              "  <tbody>\n",
              "    <tr>\n",
              "      <th>0</th>\n",
              "      <td>Data Science</td>\n",
              "      <td>Skills * Programming Languages: Python (pandas...</td>\n",
              "    </tr>\n",
              "    <tr>\n",
              "      <th>1</th>\n",
              "      <td>Data Science</td>\n",
              "      <td>Education Details \\r\\nMay 2013 to May 2017 B.E...</td>\n",
              "    </tr>\n",
              "    <tr>\n",
              "      <th>2</th>\n",
              "      <td>Data Science</td>\n",
              "      <td>Areas of Interest Deep Learning, Control Syste...</td>\n",
              "    </tr>\n",
              "    <tr>\n",
              "      <th>3</th>\n",
              "      <td>Data Science</td>\n",
              "      <td>Skills â¢ R â¢ Python â¢ SAP HANA â¢ Table...</td>\n",
              "    </tr>\n",
              "    <tr>\n",
              "      <th>4</th>\n",
              "      <td>Data Science</td>\n",
              "      <td>Education Details \\r\\n MCA   YMCAUST,  Faridab...</td>\n",
              "    </tr>\n",
              "  </tbody>\n",
              "</table>\n",
              "</div>\n",
              "      <button class=\"colab-df-convert\" onclick=\"convertToInteractive('df-143c8808-0d41-4440-99ff-f339bb072318')\"\n",
              "              title=\"Convert this dataframe to an interactive table.\"\n",
              "              style=\"display:none;\">\n",
              "        \n",
              "  <svg xmlns=\"http://www.w3.org/2000/svg\" height=\"24px\"viewBox=\"0 0 24 24\"\n",
              "       width=\"24px\">\n",
              "    <path d=\"M0 0h24v24H0V0z\" fill=\"none\"/>\n",
              "    <path d=\"M18.56 5.44l.94 2.06.94-2.06 2.06-.94-2.06-.94-.94-2.06-.94 2.06-2.06.94zm-11 1L8.5 8.5l.94-2.06 2.06-.94-2.06-.94L8.5 2.5l-.94 2.06-2.06.94zm10 10l.94 2.06.94-2.06 2.06-.94-2.06-.94-.94-2.06-.94 2.06-2.06.94z\"/><path d=\"M17.41 7.96l-1.37-1.37c-.4-.4-.92-.59-1.43-.59-.52 0-1.04.2-1.43.59L10.3 9.45l-7.72 7.72c-.78.78-.78 2.05 0 2.83L4 21.41c.39.39.9.59 1.41.59.51 0 1.02-.2 1.41-.59l7.78-7.78 2.81-2.81c.8-.78.8-2.07 0-2.86zM5.41 20L4 18.59l7.72-7.72 1.47 1.35L5.41 20z\"/>\n",
              "  </svg>\n",
              "      </button>\n",
              "      \n",
              "  <style>\n",
              "    .colab-df-container {\n",
              "      display:flex;\n",
              "      flex-wrap:wrap;\n",
              "      gap: 12px;\n",
              "    }\n",
              "\n",
              "    .colab-df-convert {\n",
              "      background-color: #E8F0FE;\n",
              "      border: none;\n",
              "      border-radius: 50%;\n",
              "      cursor: pointer;\n",
              "      display: none;\n",
              "      fill: #1967D2;\n",
              "      height: 32px;\n",
              "      padding: 0 0 0 0;\n",
              "      width: 32px;\n",
              "    }\n",
              "\n",
              "    .colab-df-convert:hover {\n",
              "      background-color: #E2EBFA;\n",
              "      box-shadow: 0px 1px 2px rgba(60, 64, 67, 0.3), 0px 1px 3px 1px rgba(60, 64, 67, 0.15);\n",
              "      fill: #174EA6;\n",
              "    }\n",
              "\n",
              "    [theme=dark] .colab-df-convert {\n",
              "      background-color: #3B4455;\n",
              "      fill: #D2E3FC;\n",
              "    }\n",
              "\n",
              "    [theme=dark] .colab-df-convert:hover {\n",
              "      background-color: #434B5C;\n",
              "      box-shadow: 0px 1px 3px 1px rgba(0, 0, 0, 0.15);\n",
              "      filter: drop-shadow(0px 1px 2px rgba(0, 0, 0, 0.3));\n",
              "      fill: #FFFFFF;\n",
              "    }\n",
              "  </style>\n",
              "\n",
              "      <script>\n",
              "        const buttonEl =\n",
              "          document.querySelector('#df-143c8808-0d41-4440-99ff-f339bb072318 button.colab-df-convert');\n",
              "        buttonEl.style.display =\n",
              "          google.colab.kernel.accessAllowed ? 'block' : 'none';\n",
              "\n",
              "        async function convertToInteractive(key) {\n",
              "          const element = document.querySelector('#df-143c8808-0d41-4440-99ff-f339bb072318');\n",
              "          const dataTable =\n",
              "            await google.colab.kernel.invokeFunction('convertToInteractive',\n",
              "                                                     [key], {});\n",
              "          if (!dataTable) return;\n",
              "\n",
              "          const docLinkHtml = 'Like what you see? Visit the ' +\n",
              "            '<a target=\"_blank\" href=https://colab.research.google.com/notebooks/data_table.ipynb>data table notebook</a>'\n",
              "            + ' to learn more about interactive tables.';\n",
              "          element.innerHTML = '';\n",
              "          dataTable['output_type'] = 'display_data';\n",
              "          await google.colab.output.renderOutput(dataTable, element);\n",
              "          const docLink = document.createElement('div');\n",
              "          docLink.innerHTML = docLinkHtml;\n",
              "          element.appendChild(docLink);\n",
              "        }\n",
              "      </script>\n",
              "    </div>\n",
              "  </div>\n",
              "  "
            ]
          },
          "metadata": {},
          "execution_count": 3
        }
      ],
      "source": [
        "#importing dataset from Github\n",
        "import pandas as pd\n",
        "url = \"https://raw.githubusercontent.com/sreeram-gsan/resume_dataset/main/ResumeDataSet.csv\"\n",
        "df = pd.read_csv(url)\n",
        "df.head()"
      ]
    },
    {
      "cell_type": "markdown",
      "source": [
        "The dataset a category and a dump of the entire resume as another column. Finding the distribution of categories in the input data."
      ],
      "metadata": {
        "id": "IpC3_1fEim0L"
      }
    },
    {
      "cell_type": "code",
      "source": [
        "print (df['Category'].value_counts())"
      ],
      "metadata": {
        "colab": {
          "base_uri": "https://localhost:8080/"
        },
        "id": "wOW2DUddioN9",
        "outputId": "c9c1ec79-846d-4d32-8bd2-1b681455c7f7"
      },
      "execution_count": null,
      "outputs": [
        {
          "output_type": "stream",
          "name": "stdout",
          "text": [
            "Java Developer               84\n",
            "Testing                      70\n",
            "DevOps Engineer              55\n",
            "Python Developer             48\n",
            "Web Designing                45\n",
            "HR                           44\n",
            "Hadoop                       42\n",
            "Blockchain                   40\n",
            "ETL Developer                40\n",
            "Operations Manager           40\n",
            "Data Science                 40\n",
            "Sales                        40\n",
            "Mechanical Engineer          40\n",
            "Arts                         36\n",
            "Database                     33\n",
            "Electrical Engineering       30\n",
            "Health and fitness           30\n",
            "PMO                          30\n",
            "Business Analyst             28\n",
            "DotNet Developer             28\n",
            "Automation Testing           26\n",
            "Network Security Engineer    25\n",
            "SAP Developer                24\n",
            "Civil Engineer               24\n",
            "Advocate                     20\n",
            "Name: Category, dtype: int64\n"
          ]
        }
      ]
    },
    {
      "cell_type": "code",
      "source": [
        "import seaborn as sns\n",
        "import matplotlib.pyplot as plt\n",
        "plt.figure(figsize=(20,5))\n",
        "sns.set_theme(style=\"darkgrid\")\n",
        "ax = sns.countplot(x=\"Category\", data=df)\n",
        "plt.xticks(rotation=60)"
      ],
      "metadata": {
        "colab": {
          "base_uri": "https://localhost:8080/",
          "height": 516
        },
        "id": "KsWvZhF9kSnb",
        "outputId": "c67f34c0-1e93-4b52-93c1-71e36ef79f70"
      },
      "execution_count": null,
      "outputs": [
        {
          "output_type": "execute_result",
          "data": {
            "text/plain": [
              "(array([ 0,  1,  2,  3,  4,  5,  6,  7,  8,  9, 10, 11, 12, 13, 14, 15, 16,\n",
              "        17, 18, 19, 20, 21, 22, 23, 24]),\n",
              " <a list of 25 Text major ticklabel objects>)"
            ]
          },
          "metadata": {},
          "execution_count": 5
        },
        {
          "output_type": "display_data",
          "data": {
            "text/plain": [
              "<Figure size 1440x360 with 1 Axes>"
            ],
            "image/png": "[encoded data removed]"
          },
          "metadata": {
            "needs_background": "light"
          }
        }
      ]
    },
    {
      "cell_type": "markdown",
      "source": [
        "**Data Cleaning**"
      ],
      "metadata": {
        "id": "Mys1ldLlokRY"
      }
    },
    {
      "cell_type": "code",
      "source": [
        "import re\n",
        "def cleanText(text):\n",
        "    text = re.sub('http\\S+\\s*', ' ', text)  # remove URLs\n",
        "    text = re.sub('RT|cc', ' ', text)  # remove RT and cc\n",
        "    text = re.sub('#\\S+', '', text)  # remove hashtags\n",
        "    text = re.sub('@\\S+', '  ', text)  # remove mentions\n",
        "    text = re.sub('[%s]' % re.escape(\"\"\"!\"#$%&'()*+,-./:;<=>?@[\\]^_`{|}~\"\"\"), ' ', text)  # remove punctuations\n",
        "    text = re.sub(r'[^\\x00-\\x7f]',r' ', text)\n",
        "    text = re.sub('\\s+', ' ', text)  # remove extra whitespace\n",
        "    return text\n",
        "\n",
        "df['cleaned_text'] = df.Resume.apply(lambda x: cleanText(x))"
      ],
      "metadata": {
        "id": "Dc1nvGY6oudI"
      },
      "execution_count": null,
      "outputs": []
    },
    {
      "cell_type": "code",
      "source": [
        "df.head()"
      ],
      "metadata": {
        "colab": {
          "base_uri": "https://localhost:8080/",
          "height": 206
        },
        "id": "BQgghejJpJsY",
        "outputId": "4fbd9659-2675-40e3-c3bb-8dc4a7a8625f"
      },
      "execution_count": null,
      "outputs": [
        {
          "output_type": "execute_result",
          "data": {
            "text/plain": [
              "       Category                                             Resume  \\\n",
              "0  Data Science  Skills * Programming Languages: Python (pandas...   \n",
              "1  Data Science  Education Details \\r\\nMay 2013 to May 2017 B.E...   \n",
              "2  Data Science  Areas of Interest Deep Learning, Control Syste...   \n",
              "3  Data Science  Skills â¢ R â¢ Python â¢ SAP HANA â¢ Table...   \n",
              "4  Data Science  Education Details \\r\\n MCA   YMCAUST,  Faridab...   \n",
              "\n",
              "                                        cleaned_text  \n",
              "0  Skills Programming Languages Python pandas num...  \n",
              "1  Education Details May 2013 to May 2017 B E UIT...  \n",
              "2  Areas of Interest Deep Learning Control System...  \n",
              "3  Skills R Python SAP HANA Tableau SAP HANA SQL ...  \n",
              "4  Education Details MCA YMCAUST Faridabad Haryan...  "
            ],
            "text/html": [
              "\n",
              "  <div id=\"df-2152785e-ec9d-46cc-83fd-3d7bcd102fab\">\n",
              "    <div class=\"colab-df-container\">\n",
              "      <div>\n",
              "<style scoped>\n",
              "    .dataframe tbody tr th:only-of-type {\n",
              "        vertical-align: middle;\n",
              "    }\n",
              "\n",
              "    .dataframe tbody tr th {\n",
              "        vertical-align: top;\n",
              "    }\n",
              "\n",
              "    .dataframe thead th {\n",
              "        text-align: right;\n",
              "    }\n",
              "</style>\n",
              "<table border=\"1\" class=\"dataframe\">\n",
              "  <thead>\n",
              "    <tr style=\"text-align: right;\">\n",
              "      <th></th>\n",
              "      <th>Category</th>\n",
              "      <th>Resume</th>\n",
              "      <th>cleaned_text</th>\n",
              "    </tr>\n",
              "  </thead>\n",
              "  <tbody>\n",
              "    <tr>\n",
              "      <th>0</th>\n",
              "      <td>Data Science</td>\n",
              "      <td>Skills * Programming Languages: Python (pandas...</td>\n",
              "      <td>Skills Programming Languages Python pandas num...</td>\n",
              "    </tr>\n",
              "    <tr>\n",
              "      <th>1</th>\n",
              "      <td>Data Science</td>\n",
              "      <td>Education Details \\r\\nMay 2013 to May 2017 B.E...</td>\n",
              "      <td>Education Details May 2013 to May 2017 B E UIT...</td>\n",
              "    </tr>\n",
              "    <tr>\n",
              "      <th>2</th>\n",
              "      <td>Data Science</td>\n",
              "      <td>Areas of Interest Deep Learning, Control Syste...</td>\n",
              "      <td>Areas of Interest Deep Learning Control System...</td>\n",
              "    </tr>\n",
              "    <tr>\n",
              "      <th>3</th>\n",
              "      <td>Data Science</td>\n",
              "      <td>Skills â¢ R â¢ Python â¢ SAP HANA â¢ Table...</td>\n",
              "      <td>Skills R Python SAP HANA Tableau SAP HANA SQL ...</td>\n",
              "    </tr>\n",
              "    <tr>\n",
              "      <th>4</th>\n",
              "      <td>Data Science</td>\n",
              "      <td>Education Details \\r\\n MCA   YMCAUST,  Faridab...</td>\n",
              "      <td>Education Details MCA YMCAUST Faridabad Haryan...</td>\n",
              "    </tr>\n",
              "  </tbody>\n",
              "</table>\n",
              "</div>\n",
              "      <button class=\"colab-df-convert\" onclick=\"convertToInteractive('df-2152785e-ec9d-46cc-83fd-3d7bcd102fab')\"\n",
              "              title=\"Convert this dataframe to an interactive table.\"\n",
              "              style=\"display:none;\">\n",
              "        \n",
              "  <svg xmlns=\"http://www.w3.org/2000/svg\" height=\"24px\"viewBox=\"0 0 24 24\"\n",
              "       width=\"24px\">\n",
              "    <path d=\"M0 0h24v24H0V0z\" fill=\"none\"/>\n",
              "    <path d=\"M18.56 5.44l.94 2.06.94-2.06 2.06-.94-2.06-.94-.94-2.06-.94 2.06-2.06.94zm-11 1L8.5 8.5l.94-2.06 2.06-.94-2.06-.94L8.5 2.5l-.94 2.06-2.06.94zm10 10l.94 2.06.94-2.06 2.06-.94-2.06-.94-.94-2.06-.94 2.06-2.06.94z\"/><path d=\"M17.41 7.96l-1.37-1.37c-.4-.4-.92-.59-1.43-.59-.52 0-1.04.2-1.43.59L10.3 9.45l-7.72 7.72c-.78.78-.78 2.05 0 2.83L4 21.41c.39.39.9.59 1.41.59.51 0 1.02-.2 1.41-.59l7.78-7.78 2.81-2.81c.8-.78.8-2.07 0-2.86zM5.41 20L4 18.59l7.72-7.72 1.47 1.35L5.41 20z\"/>\n",
              "  </svg>\n",
              "      </button>\n",
              "      \n",
              "  <style>\n",
              "    .colab-df-container {\n",
              "      display:flex;\n",
              "      flex-wrap:wrap;\n",
              "      gap: 12px;\n",
              "    }\n",
              "\n",
              "    .colab-df-convert {\n",
              "      background-color: #E8F0FE;\n",
              "      border: none;\n",
              "      border-radius: 50%;\n",
              "      cursor: pointer;\n",
              "      display: none;\n",
              "      fill: #1967D2;\n",
              "      height: 32px;\n",
              "      padding: 0 0 0 0;\n",
              "      width: 32px;\n",
              "    }\n",
              "\n",
              "    .colab-df-convert:hover {\n",
              "      background-color: #E2EBFA;\n",
              "      box-shadow: 0px 1px 2px rgba(60, 64, 67, 0.3), 0px 1px 3px 1px rgba(60, 64, 67, 0.15);\n",
              "      fill: #174EA6;\n",
              "    }\n",
              "\n",
              "    [theme=dark] .colab-df-convert {\n",
              "      background-color: #3B4455;\n",
              "      fill: #D2E3FC;\n",
              "    }\n",
              "\n",
              "    [theme=dark] .colab-df-convert:hover {\n",
              "      background-color: #434B5C;\n",
              "      box-shadow: 0px 1px 3px 1px rgba(0, 0, 0, 0.15);\n",
              "      filter: drop-shadow(0px 1px 2px rgba(0, 0, 0, 0.3));\n",
              "      fill: #FFFFFF;\n",
              "    }\n",
              "  </style>\n",
              "\n",
              "      <script>\n",
              "        const buttonEl =\n",
              "          document.querySelector('#df-2152785e-ec9d-46cc-83fd-3d7bcd102fab button.colab-df-convert');\n",
              "        buttonEl.style.display =\n",
              "          google.colab.kernel.accessAllowed ? 'block' : 'none';\n",
              "\n",
              "        async function convertToInteractive(key) {\n",
              "          const element = document.querySelector('#df-2152785e-ec9d-46cc-83fd-3d7bcd102fab');\n",
              "          const dataTable =\n",
              "            await google.colab.kernel.invokeFunction('convertToInteractive',\n",
              "                                                     [key], {});\n",
              "          if (!dataTable) return;\n",
              "\n",
              "          const docLinkHtml = 'Like what you see? Visit the ' +\n",
              "            '<a target=\"_blank\" href=https://colab.research.google.com/notebooks/data_table.ipynb>data table notebook</a>'\n",
              "            + ' to learn more about interactive tables.';\n",
              "          element.innerHTML = '';\n",
              "          dataTable['output_type'] = 'display_data';\n",
              "          await google.colab.output.renderOutput(dataTable, element);\n",
              "          const docLink = document.createElement('div');\n",
              "          docLink.innerHTML = docLinkHtml;\n",
              "          element.appendChild(docLink);\n",
              "        }\n",
              "      </script>\n",
              "    </div>\n",
              "  </div>\n",
              "  "
            ]
          },
          "metadata": {},
          "execution_count": 5
        }
      ]
    },
    {
      "cell_type": "code",
      "source": [
        "import nltk\n",
        "nltk.download('stopwords')\n",
        "nltk.download('punkt')\n",
        "from nltk.corpus import stopwords\n",
        "import string\n",
        "from wordcloud import WordCloud\n",
        "\n",
        "oneSetOfStopWords = set(stopwords.words('english')+['``',\"''\"])\n",
        "totalWords =[]\n",
        "Sentences = df['Resume'].values\n",
        "cleanedSentences = \"\"\n",
        "for records in Sentences:\n",
        "    cleanedText = cleanText(records)\n",
        "    cleanedSentences += cleanedText\n",
        "    requiredWords = nltk.word_tokenize(cleanedText)\n",
        "    for word in requiredWords:\n",
        "        if word not in oneSetOfStopWords and word not in string.punctuation:\n",
        "            totalWords.append(word)\n",
        "\n",
        "wordfreqdist = nltk.FreqDist(totalWords)\n",
        "mostcommon = wordfreqdist.most_common(50)\n",
        "mostCommonDf = pd.DataFrame(mostcommon)\n",
        "mostCommonDf"
      ],
      "metadata": {
        "colab": {
          "base_uri": "https://localhost:8080/",
          "height": 1000
        },
        "id": "fq76CCb5pNTJ",
        "outputId": "bab399e5-0895-48e4-fc50-ab8e84871fa0"
      },
      "execution_count": null,
      "outputs": [
        {
          "output_type": "stream",
          "name": "stdout",
          "text": [
            "[nltk_data] Downloading package stopwords to /root/nltk_data...\n",
            "[nltk_data]   Unzipping corpora/stopwords.zip.\n",
            "[nltk_data] Downloading package punkt to /root/nltk_data...\n",
            "[nltk_data]   Unzipping tokenizers/punkt.zip.\n"
          ]
        },
        {
          "output_type": "execute_result",
          "data": {
            "text/plain": [
              "                   0     1\n",
              "0          Exprience  3829\n",
              "1             months  3233\n",
              "2            company  3130\n",
              "3            Details  2967\n",
              "4        description  2634\n",
              "5                  1  2134\n",
              "6            Project  1808\n",
              "7            project  1579\n",
              "8                  6  1499\n",
              "9               data  1438\n",
              "10              team  1424\n",
              "11       Maharashtra  1385\n",
              "12              year  1244\n",
              "13              Less  1137\n",
              "14           January  1086\n",
              "15             using  1041\n",
              "16             Skill  1018\n",
              "17              Pune  1016\n",
              "18        Management  1010\n",
              "19               SQL   990\n",
              "20               Ltd   934\n",
              "21        management   927\n",
              "22                 C   896\n",
              "23       Engineering   855\n",
              "24         Education   833\n",
              "25         Developer   806\n",
              "26              Java   773\n",
              "27                 2   754\n",
              "28       development   752\n",
              "29     monthsCompany   746\n",
              "30               Pvt   730\n",
              "31       application   727\n",
              "32            System   715\n",
              "33           reports   697\n",
              "34          business   696\n",
              "35             India   693\n",
              "36      requirements   693\n",
              "37                 I   690\n",
              "38           various   688\n",
              "39                 A   688\n",
              "40              Data   674\n",
              "41               The   672\n",
              "42        University   656\n",
              "43           process   648\n",
              "44           Testing   646\n",
              "45              test   638\n",
              "46  Responsibilities   637\n",
              "47            system   636\n",
              "48           testing   634\n",
              "49          Software   632"
            ],
            "text/html": [
              "\n",
              "  <div id=\"df-41a4f021-89c7-4825-91b3-292219316449\">\n",
              "    <div class=\"colab-df-container\">\n",
              "      <div>\n",
              "<style scoped>\n",
              "    .dataframe tbody tr th:only-of-type {\n",
              "        vertical-align: middle;\n",
              "    }\n",
              "\n",
              "    .dataframe tbody tr th {\n",
              "        vertical-align: top;\n",
              "    }\n",
              "\n",
              "    .dataframe thead th {\n",
              "        text-align: right;\n",
              "    }\n",
              "</style>\n",
              "<table border=\"1\" class=\"dataframe\">\n",
              "  <thead>\n",
              "    <tr style=\"text-align: right;\">\n",
              "      <th></th>\n",
              "      <th>0</th>\n",
              "      <th>1</th>\n",
              "    </tr>\n",
              "  </thead>\n",
              "  <tbody>\n",
              "    <tr>\n",
              "      <th>0</th>\n",
              "      <td>Exprience</td>\n",
              "      <td>3829</td>\n",
              "    </tr>\n",
              "    <tr>\n",
              "      <th>1</th>\n",
              "      <td>months</td>\n",
              "      <td>3233</td>\n",
              "    </tr>\n",
              "    <tr>\n",
              "      <th>2</th>\n",
              "      <td>company</td>\n",
              "      <td>3130</td>\n",
              "    </tr>\n",
              "    <tr>\n",
              "      <th>3</th>\n",
              "      <td>Details</td>\n",
              "      <td>2967</td>\n",
              "    </tr>\n",
              "    <tr>\n",
              "      <th>4</th>\n",
              "      <td>description</td>\n",
              "      <td>2634</td>\n",
              "    </tr>\n",
              "    <tr>\n",
              "      <th>5</th>\n",
              "      <td>1</td>\n",
              "      <td>2134</td>\n",
              "    </tr>\n",
              "    <tr>\n",
              "      <th>6</th>\n",
              "      <td>Project</td>\n",
              "      <td>1808</td>\n",
              "    </tr>\n",
              "    <tr>\n",
              "      <th>7</th>\n",
              "      <td>project</td>\n",
              "      <td>1579</td>\n",
              "    </tr>\n",
              "    <tr>\n",
              "      <th>8</th>\n",
              "      <td>6</td>\n",
              "      <td>1499</td>\n",
              "    </tr>\n",
              "    <tr>\n",
              "      <th>9</th>\n",
              "      <td>data</td>\n",
              "      <td>1438</td>\n",
              "    </tr>\n",
              "    <tr>\n",
              "      <th>10</th>\n",
              "      <td>team</td>\n",
              "      <td>1424</td>\n",
              "    </tr>\n",
              "    <tr>\n",
              "      <th>11</th>\n",
              "      <td>Maharashtra</td>\n",
              "      <td>1385</td>\n",
              "    </tr>\n",
              "    <tr>\n",
              "      <th>12</th>\n",
              "      <td>year</td>\n",
              "      <td>1244</td>\n",
              "    </tr>\n",
              "    <tr>\n",
              "      <th>13</th>\n",
              "      <td>Less</td>\n",
              "      <td>1137</td>\n",
              "    </tr>\n",
              "    <tr>\n",
              "      <th>14</th>\n",
              "      <td>January</td>\n",
              "      <td>1086</td>\n",
              "    </tr>\n",
              "    <tr>\n",
              "      <th>15</th>\n",
              "      <td>using</td>\n",
              "      <td>1041</td>\n",
              "    </tr>\n",
              "    <tr>\n",
              "      <th>16</th>\n",
              "      <td>Skill</td>\n",
              "      <td>1018</td>\n",
              "    </tr>\n",
              "    <tr>\n",
              "      <th>17</th>\n",
              "      <td>Pune</td>\n",
              "      <td>1016</td>\n",
              "    </tr>\n",
              "    <tr>\n",
              "      <th>18</th>\n",
              "      <td>Management</td>\n",
              "      <td>1010</td>\n",
              "    </tr>\n",
              "    <tr>\n",
              "      <th>19</th>\n",
              "      <td>SQL</td>\n",
              "      <td>990</td>\n",
              "    </tr>\n",
              "    <tr>\n",
              "      <th>20</th>\n",
              "      <td>Ltd</td>\n",
              "      <td>934</td>\n",
              "    </tr>\n",
              "    <tr>\n",
              "      <th>21</th>\n",
              "      <td>management</td>\n",
              "      <td>927</td>\n",
              "    </tr>\n",
              "    <tr>\n",
              "      <th>22</th>\n",
              "      <td>C</td>\n",
              "      <td>896</td>\n",
              "    </tr>\n",
              "    <tr>\n",
              "      <th>23</th>\n",
              "      <td>Engineering</td>\n",
              "      <td>855</td>\n",
              "    </tr>\n",
              "    <tr>\n",
              "      <th>24</th>\n",
              "      <td>Education</td>\n",
              "      <td>833</td>\n",
              "    </tr>\n",
              "    <tr>\n",
              "      <th>25</th>\n",
              "      <td>Developer</td>\n",
              "      <td>806</td>\n",
              "    </tr>\n",
              "    <tr>\n",
              "      <th>26</th>\n",
              "      <td>Java</td>\n",
              "      <td>773</td>\n",
              "    </tr>\n",
              "    <tr>\n",
              "      <th>27</th>\n",
              "      <td>2</td>\n",
              "      <td>754</td>\n",
              "    </tr>\n",
              "    <tr>\n",
              "      <th>28</th>\n",
              "      <td>development</td>\n",
              "      <td>752</td>\n",
              "    </tr>\n",
              "    <tr>\n",
              "      <th>29</th>\n",
              "      <td>monthsCompany</td>\n",
              "      <td>746</td>\n",
              "    </tr>\n",
              "    <tr>\n",
              "      <th>30</th>\n",
              "      <td>Pvt</td>\n",
              "      <td>730</td>\n",
              "    </tr>\n",
              "    <tr>\n",
              "      <th>31</th>\n",
              "      <td>application</td>\n",
              "      <td>727</td>\n",
              "    </tr>\n",
              "    <tr>\n",
              "      <th>32</th>\n",
              "      <td>System</td>\n",
              "      <td>715</td>\n",
              "    </tr>\n",
              "    <tr>\n",
              "      <th>33</th>\n",
              "      <td>reports</td>\n",
              "      <td>697</td>\n",
              "    </tr>\n",
              "    <tr>\n",
              "      <th>34</th>\n",
              "      <td>business</td>\n",
              "      <td>696</td>\n",
              "    </tr>\n",
              "    <tr>\n",
              "      <th>35</th>\n",
              "      <td>India</td>\n",
              "      <td>693</td>\n",
              "    </tr>\n",
              "    <tr>\n",
              "      <th>36</th>\n",
              "      <td>requirements</td>\n",
              "      <td>693</td>\n",
              "    </tr>\n",
              "    <tr>\n",
              "      <th>37</th>\n",
              "      <td>I</td>\n",
              "      <td>690</td>\n",
              "    </tr>\n",
              "    <tr>\n",
              "      <th>38</th>\n",
              "      <td>various</td>\n",
              "      <td>688</td>\n",
              "    </tr>\n",
              "    <tr>\n",
              "      <th>39</th>\n",
              "      <td>A</td>\n",
              "      <td>688</td>\n",
              "    </tr>\n",
              "    <tr>\n",
              "      <th>40</th>\n",
              "      <td>Data</td>\n",
              "      <td>674</td>\n",
              "    </tr>\n",
              "    <tr>\n",
              "      <th>41</th>\n",
              "      <td>The</td>\n",
              "      <td>672</td>\n",
              "    </tr>\n",
              "    <tr>\n",
              "      <th>42</th>\n",
              "      <td>University</td>\n",
              "      <td>656</td>\n",
              "    </tr>\n",
              "    <tr>\n",
              "      <th>43</th>\n",
              "      <td>process</td>\n",
              "      <td>648</td>\n",
              "    </tr>\n",
              "    <tr>\n",
              "      <th>44</th>\n",
              "      <td>Testing</td>\n",
              "      <td>646</td>\n",
              "    </tr>\n",
              "    <tr>\n",
              "      <th>45</th>\n",
              "      <td>test</td>\n",
              "      <td>638</td>\n",
              "    </tr>\n",
              "    <tr>\n",
              "      <th>46</th>\n",
              "      <td>Responsibilities</td>\n",
              "      <td>637</td>\n",
              "    </tr>\n",
              "    <tr>\n",
              "      <th>47</th>\n",
              "      <td>system</td>\n",
              "      <td>636</td>\n",
              "    </tr>\n",
              "    <tr>\n",
              "      <th>48</th>\n",
              "      <td>testing</td>\n",
              "      <td>634</td>\n",
              "    </tr>\n",
              "    <tr>\n",
              "      <th>49</th>\n",
              "      <td>Software</td>\n",
              "      <td>632</td>\n",
              "    </tr>\n",
              "  </tbody>\n",
              "</table>\n",
              "</div>\n",
              "      <button class=\"colab-df-convert\" onclick=\"convertToInteractive('df-41a4f021-89c7-4825-91b3-292219316449')\"\n",
              "              title=\"Convert this dataframe to an interactive table.\"\n",
              "              style=\"display:none;\">\n",
              "        \n",
              "  <svg xmlns=\"http://www.w3.org/2000/svg\" height=\"24px\"viewBox=\"0 0 24 24\"\n",
              "       width=\"24px\">\n",
              "    <path d=\"M0 0h24v24H0V0z\" fill=\"none\"/>\n",
              "    <path d=\"M18.56 5.44l.94 2.06.94-2.06 2.06-.94-2.06-.94-.94-2.06-.94 2.06-2.06.94zm-11 1L8.5 8.5l.94-2.06 2.06-.94-2.06-.94L8.5 2.5l-.94 2.06-2.06.94zm10 10l.94 2.06.94-2.06 2.06-.94-2.06-.94-.94-2.06-.94 2.06-2.06.94z\"/><path d=\"M17.41 7.96l-1.37-1.37c-.4-.4-.92-.59-1.43-.59-.52 0-1.04.2-1.43.59L10.3 9.45l-7.72 7.72c-.78.78-.78 2.05 0 2.83L4 21.41c.39.39.9.59 1.41.59.51 0 1.02-.2 1.41-.59l7.78-7.78 2.81-2.81c.8-.78.8-2.07 0-2.86zM5.41 20L4 18.59l7.72-7.72 1.47 1.35L5.41 20z\"/>\n",
              "  </svg>\n",
              "      </button>\n",
              "      \n",
              "  <style>\n",
              "    .colab-df-container {\n",
              "      display:flex;\n",
              "      flex-wrap:wrap;\n",
              "      gap: 12px;\n",
              "    }\n",
              "\n",
              "    .colab-df-convert {\n",
              "      background-color: #E8F0FE;\n",
              "      border: none;\n",
              "      border-radius: 50%;\n",
              "      cursor: pointer;\n",
              "      display: none;\n",
              "      fill: #1967D2;\n",
              "      height: 32px;\n",
              "      padding: 0 0 0 0;\n",
              "      width: 32px;\n",
              "    }\n",
              "\n",
              "    .colab-df-convert:hover {\n",
              "      background-color: #E2EBFA;\n",
              "      box-shadow: 0px 1px 2px rgba(60, 64, 67, 0.3), 0px 1px 3px 1px rgba(60, 64, 67, 0.15);\n",
              "      fill: #174EA6;\n",
              "    }\n",
              "\n",
              "    [theme=dark] .colab-df-convert {\n",
              "      background-color: #3B4455;\n",
              "      fill: #D2E3FC;\n",
              "    }\n",
              "\n",
              "    [theme=dark] .colab-df-convert:hover {\n",
              "      background-color: #434B5C;\n",
              "      box-shadow: 0px 1px 3px 1px rgba(0, 0, 0, 0.15);\n",
              "      filter: drop-shadow(0px 1px 2px rgba(0, 0, 0, 0.3));\n",
              "      fill: #FFFFFF;\n",
              "    }\n",
              "  </style>\n",
              "\n",
              "      <script>\n",
              "        const buttonEl =\n",
              "          document.querySelector('#df-41a4f021-89c7-4825-91b3-292219316449 button.colab-df-convert');\n",
              "        buttonEl.style.display =\n",
              "          google.colab.kernel.accessAllowed ? 'block' : 'none';\n",
              "\n",
              "        async function convertToInteractive(key) {\n",
              "          const element = document.querySelector('#df-41a4f021-89c7-4825-91b3-292219316449');\n",
              "          const dataTable =\n",
              "            await google.colab.kernel.invokeFunction('convertToInteractive',\n",
              "                                                     [key], {});\n",
              "          if (!dataTable) return;\n",
              "\n",
              "          const docLinkHtml = 'Like what you see? Visit the ' +\n",
              "            '<a target=\"_blank\" href=https://colab.research.google.com/notebooks/data_table.ipynb>data table notebook</a>'\n",
              "            + ' to learn more about interactive tables.';\n",
              "          element.innerHTML = '';\n",
              "          dataTable['output_type'] = 'display_data';\n",
              "          await google.colab.output.renderOutput(dataTable, element);\n",
              "          const docLink = document.createElement('div');\n",
              "          docLink.innerHTML = docLinkHtml;\n",
              "          element.appendChild(docLink);\n",
              "        }\n",
              "      </script>\n",
              "    </div>\n",
              "  </div>\n",
              "  "
            ]
          },
          "metadata": {},
          "execution_count": 7
        }
      ]
    },
    {
      "cell_type": "code",
      "source": [
        "df.head()"
      ],
      "metadata": {
        "colab": {
          "base_uri": "https://localhost:8080/",
          "height": 206
        },
        "id": "39CTKJPIsmXS",
        "outputId": "52415e93-9765-4be3-dffc-beb49ccd02eb"
      },
      "execution_count": null,
      "outputs": [
        {
          "output_type": "execute_result",
          "data": {
            "text/plain": [
              "       Category                                             Resume  \\\n",
              "0  Data Science  Skills * Programming Languages: Python (pandas...   \n",
              "1  Data Science  Education Details \\r\\nMay 2013 to May 2017 B.E...   \n",
              "2  Data Science  Areas of Interest Deep Learning, Control Syste...   \n",
              "3  Data Science  Skills â¢ R â¢ Python â¢ SAP HANA â¢ Table...   \n",
              "4  Data Science  Education Details \\r\\n MCA   YMCAUST,  Faridab...   \n",
              "\n",
              "                                        cleaned_text  \n",
              "0  Skills Programming Languages Python pandas num...  \n",
              "1  Education Details May 2013 to May 2017 B E UIT...  \n",
              "2  Areas of Interest Deep Learning Control System...  \n",
              "3  Skills R Python SAP HANA Tableau SAP HANA SQL ...  \n",
              "4  Education Details MCA YMCAUST Faridabad Haryan...  "
            ],
            "text/html": [
              "\n",
              "  <div id=\"df-828f24ee-5029-4494-8702-13a22dbe0c4c\">\n",
              "    <div class=\"colab-df-container\">\n",
              "      <div>\n",
              "<style scoped>\n",
              "    .dataframe tbody tr th:only-of-type {\n",
              "        vertical-align: middle;\n",
              "    }\n",
              "\n",
              "    .dataframe tbody tr th {\n",
              "        vertical-align: top;\n",
              "    }\n",
              "\n",
              "    .dataframe thead th {\n",
              "        text-align: right;\n",
              "    }\n",
              "</style>\n",
              "<table border=\"1\" class=\"dataframe\">\n",
              "  <thead>\n",
              "    <tr style=\"text-align: right;\">\n",
              "      <th></th>\n",
              "      <th>Category</th>\n",
              "      <th>Resume</th>\n",
              "      <th>cleaned_text</th>\n",
              "    </tr>\n",
              "  </thead>\n",
              "  <tbody>\n",
              "    <tr>\n",
              "      <th>0</th>\n",
              "      <td>Data Science</td>\n",
              "      <td>Skills * Programming Languages: Python (pandas...</td>\n",
              "      <td>Skills Programming Languages Python pandas num...</td>\n",
              "    </tr>\n",
              "    <tr>\n",
              "      <th>1</th>\n",
              "      <td>Data Science</td>\n",
              "      <td>Education Details \\r\\nMay 2013 to May 2017 B.E...</td>\n",
              "      <td>Education Details May 2013 to May 2017 B E UIT...</td>\n",
              "    </tr>\n",
              "    <tr>\n",
              "      <th>2</th>\n",
              "      <td>Data Science</td>\n",
              "      <td>Areas of Interest Deep Learning, Control Syste...</td>\n",
              "      <td>Areas of Interest Deep Learning Control System...</td>\n",
              "    </tr>\n",
              "    <tr>\n",
              "      <th>3</th>\n",
              "      <td>Data Science</td>\n",
              "      <td>Skills â¢ R â¢ Python â¢ SAP HANA â¢ Table...</td>\n",
              "      <td>Skills R Python SAP HANA Tableau SAP HANA SQL ...</td>\n",
              "    </tr>\n",
              "    <tr>\n",
              "      <th>4</th>\n",
              "      <td>Data Science</td>\n",
              "      <td>Education Details \\r\\n MCA   YMCAUST,  Faridab...</td>\n",
              "      <td>Education Details MCA YMCAUST Faridabad Haryan...</td>\n",
              "    </tr>\n",
              "  </tbody>\n",
              "</table>\n",
              "</div>\n",
              "      <button class=\"colab-df-convert\" onclick=\"convertToInteractive('df-828f24ee-5029-4494-8702-13a22dbe0c4c')\"\n",
              "              title=\"Convert this dataframe to an interactive table.\"\n",
              "              style=\"display:none;\">\n",
              "        \n",
              "  <svg xmlns=\"http://www.w3.org/2000/svg\" height=\"24px\"viewBox=\"0 0 24 24\"\n",
              "       width=\"24px\">\n",
              "    <path d=\"M0 0h24v24H0V0z\" fill=\"none\"/>\n",
              "    <path d=\"M18.56 5.44l.94 2.06.94-2.06 2.06-.94-2.06-.94-.94-2.06-.94 2.06-2.06.94zm-11 1L8.5 8.5l.94-2.06 2.06-.94-2.06-.94L8.5 2.5l-.94 2.06-2.06.94zm10 10l.94 2.06.94-2.06 2.06-.94-2.06-.94-.94-2.06-.94 2.06-2.06.94z\"/><path d=\"M17.41 7.96l-1.37-1.37c-.4-.4-.92-.59-1.43-.59-.52 0-1.04.2-1.43.59L10.3 9.45l-7.72 7.72c-.78.78-.78 2.05 0 2.83L4 21.41c.39.39.9.59 1.41.59.51 0 1.02-.2 1.41-.59l7.78-7.78 2.81-2.81c.8-.78.8-2.07 0-2.86zM5.41 20L4 18.59l7.72-7.72 1.47 1.35L5.41 20z\"/>\n",
              "  </svg>\n",
              "      </button>\n",
              "      \n",
              "  <style>\n",
              "    .colab-df-container {\n",
              "      display:flex;\n",
              "      flex-wrap:wrap;\n",
              "      gap: 12px;\n",
              "    }\n",
              "\n",
              "    .colab-df-convert {\n",
              "      background-color: #E8F0FE;\n",
              "      border: none;\n",
              "      border-radius: 50%;\n",
              "      cursor: pointer;\n",
              "      display: none;\n",
              "      fill: #1967D2;\n",
              "      height: 32px;\n",
              "      padding: 0 0 0 0;\n",
              "      width: 32px;\n",
              "    }\n",
              "\n",
              "    .colab-df-convert:hover {\n",
              "      background-color: #E2EBFA;\n",
              "      box-shadow: 0px 1px 2px rgba(60, 64, 67, 0.3), 0px 1px 3px 1px rgba(60, 64, 67, 0.15);\n",
              "      fill: #174EA6;\n",
              "    }\n",
              "\n",
              "    [theme=dark] .colab-df-convert {\n",
              "      background-color: #3B4455;\n",
              "      fill: #D2E3FC;\n",
              "    }\n",
              "\n",
              "    [theme=dark] .colab-df-convert:hover {\n",
              "      background-color: #434B5C;\n",
              "      box-shadow: 0px 1px 3px 1px rgba(0, 0, 0, 0.15);\n",
              "      filter: drop-shadow(0px 1px 2px rgba(0, 0, 0, 0.3));\n",
              "      fill: #FFFFFF;\n",
              "    }\n",
              "  </style>\n",
              "\n",
              "      <script>\n",
              "        const buttonEl =\n",
              "          document.querySelector('#df-828f24ee-5029-4494-8702-13a22dbe0c4c button.colab-df-convert');\n",
              "        buttonEl.style.display =\n",
              "          google.colab.kernel.accessAllowed ? 'block' : 'none';\n",
              "\n",
              "        async function convertToInteractive(key) {\n",
              "          const element = document.querySelector('#df-828f24ee-5029-4494-8702-13a22dbe0c4c');\n",
              "          const dataTable =\n",
              "            await google.colab.kernel.invokeFunction('convertToInteractive',\n",
              "                                                     [key], {});\n",
              "          if (!dataTable) return;\n",
              "\n",
              "          const docLinkHtml = 'Like what you see? Visit the ' +\n",
              "            '<a target=\"_blank\" href=https://colab.research.google.com/notebooks/data_table.ipynb>data table notebook</a>'\n",
              "            + ' to learn more about interactive tables.';\n",
              "          element.innerHTML = '';\n",
              "          dataTable['output_type'] = 'display_data';\n",
              "          await google.colab.output.renderOutput(dataTable, element);\n",
              "          const docLink = document.createElement('div');\n",
              "          docLink.innerHTML = docLinkHtml;\n",
              "          element.appendChild(docLink);\n",
              "        }\n",
              "      </script>\n",
              "    </div>\n",
              "  </div>\n",
              "  "
            ]
          },
          "metadata": {},
          "execution_count": 8
        }
      ]
    },
    {
      "cell_type": "code",
      "source": [
        "from sklearn.model_selection import train_test_split\n",
        "from sklearn.feature_extraction.text import TfidfVectorizer\n",
        "from scipy.sparse import hstack\n",
        "\n",
        "requiredText = df['cleaned_text'].values\n",
        "requiredTarget = df['Category'].values\n",
        "\n",
        "word_vectorizer = TfidfVectorizer(\n",
        "    sublinear_tf=True,\n",
        "    stop_words='english')\n",
        "word_vectorizer.fit(requiredText)\n",
        "WordFeatures = word_vectorizer.transform(requiredText)\n",
        "\n",
        "print (\"Feature completed .....\")\n",
        "\n",
        "X_train,X_test,y_train,y_test = train_test_split(WordFeatures,requiredTarget,random_state=42, test_size=0.2,\n",
        "                                                 shuffle=True, stratify=requiredTarget)\n",
        "print(X_train.shape)\n",
        "print(X_test.shape)"
      ],
      "metadata": {
        "colab": {
          "base_uri": "https://localhost:8080/"
        },
        "id": "A77006sUtnVH",
        "outputId": "f7f36d07-8d73-4544-fc97-8c53e02dc416"
      },
      "execution_count": null,
      "outputs": [
        {
          "output_type": "stream",
          "name": "stdout",
          "text": [
            "Feature completed .....\n",
            "(769, 7351)\n",
            "(193, 7351)\n"
          ]
        }
      ]
    },
    {
      "cell_type": "code",
      "source": [
        "#K-Nearest-Neighbours\n",
        "from sklearn.multiclass import OneVsRestClassifier\n",
        "from sklearn.neighbors import KNeighborsClassifier\n",
        "\n",
        "clf = OneVsRestClassifier(KNeighborsClassifier())\n",
        "clf.fit(X_train, y_train)\n",
        "prediction = clf.predict(X_test)\n",
        "print('Accuracy on training set: {:.2f}'.format(clf.score(X_train, y_train)))\n",
        "print('Accuracy on on test set:     {:.2f}'.format(clf.score(X_test, y_test)))"
      ],
      "metadata": {
        "colab": {
          "base_uri": "https://localhost:8080/"
        },
        "id": "67O5rH8yuI_g",
        "outputId": "5b81f262-5c48-4022-b49d-46a838f2261d"
      },
      "execution_count": null,
      "outputs": [
        {
          "output_type": "stream",
          "name": "stdout",
          "text": [
            "Accuracy on training set: 0.99\n",
            "Accuracy on on test set:     0.98\n"
          ]
        }
      ]
    },
    {
      "cell_type": "code",
      "source": [
        "clf.get_params()"
      ],
      "metadata": {
        "id": "4SiuikdR89p7",
        "outputId": "e1e8bb1b-c187-4c28-db51-5ed901cc77ac",
        "colab": {
          "base_uri": "https://localhost:8080/"
        }
      },
      "execution_count": null,
      "outputs": [
        {
          "output_type": "execute_result",
          "data": {
            "text/plain": [
              "{'estimator': KNeighborsClassifier(),\n",
              " 'estimator__algorithm': 'auto',\n",
              " 'estimator__leaf_size': 30,\n",
              " 'estimator__metric': 'minkowski',\n",
              " 'estimator__metric_params': None,\n",
              " 'estimator__n_jobs': None,\n",
              " 'estimator__n_neighbors': 5,\n",
              " 'estimator__p': 2,\n",
              " 'estimator__weights': 'uniform',\n",
              " 'n_jobs': None}"
            ]
          },
          "metadata": {},
          "execution_count": 11
        }
      ]
    },
    {
      "cell_type": "code",
      "source": [
        "#SVM\n",
        "from sklearn.svm import SVC\n",
        "svclassifier = SVC(kernel='linear')\n",
        "svclassifier.fit(X_train, y_train)\n",
        "y_pred = svclassifier.predict(X_test)\n",
        "print('Accuracy on training set: {:.2f}'.format(svclassifier.score(X_train, y_train)))\n",
        "print('Accuracy on on test set:     {:.2f}'.format(svclassifier.score(X_test, y_test)))"
      ],
      "metadata": {
        "colab": {
          "base_uri": "https://localhost:8080/"
        },
        "id": "F6hUGqGz6fKx",
        "outputId": "3308a8bf-3c1e-42fd-cc8f-7f54e0ddc2d3"
      },
      "execution_count": null,
      "outputs": [
        {
          "output_type": "stream",
          "name": "stdout",
          "text": [
            "Accuracy on training set: 1.00\n",
            "Accuracy on on test set:     0.99\n"
          ]
        }
      ]
    },
    {
      "cell_type": "code",
      "source": [
        "from sklearn.metrics import classification_report, confusion_matrix\n",
        "print(classification_report(y_test,y_pred))"
      ],
      "metadata": {
        "colab": {
          "base_uri": "https://localhost:8080/"
        },
        "id": "zXcon6TJ7G8t",
        "outputId": "35d078b4-bf6b-491a-9b7e-5aa91aa1a0b9"
      },
      "execution_count": null,
      "outputs": [
        {
          "output_type": "stream",
          "name": "stdout",
          "text": [
            "                           precision    recall  f1-score   support\n",
            "\n",
            "                 Advocate       1.00      1.00      1.00         4\n",
            "                     Arts       1.00      1.00      1.00         7\n",
            "       Automation Testing       0.83      1.00      0.91         5\n",
            "               Blockchain       1.00      1.00      1.00         8\n",
            "         Business Analyst       1.00      1.00      1.00         6\n",
            "           Civil Engineer       1.00      1.00      1.00         5\n",
            "             Data Science       1.00      1.00      1.00         8\n",
            "                 Database       1.00      1.00      1.00         7\n",
            "          DevOps Engineer       1.00      0.91      0.95        11\n",
            "         DotNet Developer       1.00      1.00      1.00         5\n",
            "            ETL Developer       1.00      1.00      1.00         8\n",
            "   Electrical Engineering       1.00      1.00      1.00         6\n",
            "                       HR       1.00      1.00      1.00         9\n",
            "                   Hadoop       1.00      1.00      1.00         8\n",
            "       Health and fitness       1.00      1.00      1.00         6\n",
            "           Java Developer       1.00      1.00      1.00        17\n",
            "      Mechanical Engineer       1.00      1.00      1.00         8\n",
            "Network Security Engineer       1.00      1.00      1.00         5\n",
            "       Operations Manager       1.00      1.00      1.00         8\n",
            "                      PMO       1.00      1.00      1.00         6\n",
            "         Python Developer       1.00      1.00      1.00        10\n",
            "            SAP Developer       1.00      1.00      1.00         5\n",
            "                    Sales       1.00      1.00      1.00         8\n",
            "                  Testing       1.00      1.00      1.00        14\n",
            "            Web Designing       1.00      1.00      1.00         9\n",
            "\n",
            "                 accuracy                           0.99       193\n",
            "                macro avg       0.99      1.00      0.99       193\n",
            "             weighted avg       1.00      0.99      0.99       193\n",
            "\n"
          ]
        }
      ]
    },
    {
      "cell_type": "code",
      "source": [
        "#Random Forest\n",
        "from sklearn.ensemble import RandomForestClassifier\n",
        "regressor = RandomForestClassifier(n_estimators = 100, random_state = 0)\n",
        "regressor.fit(X_train, y_train)\n",
        "y_pred = regressor.predict(X_test)\n",
        "print('Accuracy on training set: {:.2f}'.format(regressor.score(X_train, y_train)))\n",
        "print('Accuracy on on test set:     {:.2f}'.format(regressor.score(X_test, y_test)))"
      ],
      "metadata": {
        "colab": {
          "base_uri": "https://localhost:8080/"
        },
        "id": "3mmhrwCu7WJo",
        "outputId": "92ecbfb5-0545-416a-a05e-ab5d718d443b"
      },
      "execution_count": null,
      "outputs": [
        {
          "output_type": "stream",
          "name": "stdout",
          "text": [
            "Accuracy on training set: 1.00\n",
            "Accuracy on on test set:     0.99\n"
          ]
        }
      ]
    },
    {
      "cell_type": "code",
      "source": [
        "print(classification_report(y_test,y_pred))"
      ],
      "metadata": {
        "colab": {
          "base_uri": "https://localhost:8080/"
        },
        "id": "sRx36O8s-vAE",
        "outputId": "d72eab4f-a263-40b1-a76c-f13f0bae1584"
      },
      "execution_count": null,
      "outputs": [
        {
          "output_type": "stream",
          "name": "stdout",
          "text": [
            "                           precision    recall  f1-score   support\n",
            "\n",
            "                 Advocate       1.00      1.00      1.00         4\n",
            "                     Arts       1.00      1.00      1.00         7\n",
            "       Automation Testing       0.83      1.00      0.91         5\n",
            "               Blockchain       1.00      1.00      1.00         8\n",
            "         Business Analyst       1.00      1.00      1.00         6\n",
            "           Civil Engineer       1.00      1.00      1.00         5\n",
            "             Data Science       1.00      1.00      1.00         8\n",
            "                 Database       1.00      1.00      1.00         7\n",
            "          DevOps Engineer       1.00      0.91      0.95        11\n",
            "         DotNet Developer       1.00      1.00      1.00         5\n",
            "            ETL Developer       1.00      1.00      1.00         8\n",
            "   Electrical Engineering       1.00      1.00      1.00         6\n",
            "                       HR       1.00      1.00      1.00         9\n",
            "                   Hadoop       1.00      1.00      1.00         8\n",
            "       Health and fitness       1.00      1.00      1.00         6\n",
            "           Java Developer       1.00      1.00      1.00        17\n",
            "      Mechanical Engineer       1.00      1.00      1.00         8\n",
            "Network Security Engineer       1.00      1.00      1.00         5\n",
            "       Operations Manager       1.00      1.00      1.00         8\n",
            "                      PMO       1.00      1.00      1.00         6\n",
            "         Python Developer       1.00      1.00      1.00        10\n",
            "            SAP Developer       1.00      1.00      1.00         5\n",
            "                    Sales       1.00      1.00      1.00         8\n",
            "                  Testing       1.00      1.00      1.00        14\n",
            "            Web Designing       1.00      1.00      1.00         9\n",
            "\n",
            "                 accuracy                           0.99       193\n",
            "                macro avg       0.99      1.00      0.99       193\n",
            "             weighted avg       1.00      0.99      0.99       193\n",
            "\n"
          ]
        }
      ]
    },
    {
      "cell_type": "code",
      "source": [
        "from sklearn.neural_network import MLPClassifier\n",
        "\n",
        "mlp = MLPClassifier(hidden_layer_sizes=(8,8,8), activation='relu', solver='adam', max_iter=500)\n",
        "mlp.fit(X_train,y_train)\n",
        "\n",
        "predict_train = mlp.predict(X_train)\n",
        "predict_test = mlp.predict(X_test)"
      ],
      "metadata": {
        "id": "lKkNxt20BD9Z"
      },
      "execution_count": null,
      "outputs": []
    },
    {
      "cell_type": "code",
      "source": [
        "print(classification_report(y_train,predict_train))"
      ],
      "metadata": {
        "id": "Z-1K9SEwBozi",
        "outputId": "0bdeb784-476d-4fe1-e09f-8eee73434a2b",
        "colab": {
          "base_uri": "https://localhost:8080/"
        }
      },
      "execution_count": null,
      "outputs": [
        {
          "output_type": "stream",
          "name": "stdout",
          "text": [
            "                           precision    recall  f1-score   support\n",
            "\n",
            "                 Advocate       1.00      1.00      1.00        16\n",
            "                     Arts       1.00      1.00      1.00        29\n",
            "       Automation Testing       1.00      1.00      1.00        21\n",
            "               Blockchain       1.00      1.00      1.00        32\n",
            "         Business Analyst       1.00      1.00      1.00        22\n",
            "           Civil Engineer       1.00      1.00      1.00        19\n",
            "             Data Science       1.00      1.00      1.00        32\n",
            "                 Database       1.00      1.00      1.00        26\n",
            "          DevOps Engineer       1.00      1.00      1.00        44\n",
            "         DotNet Developer       1.00      1.00      1.00        23\n",
            "            ETL Developer       1.00      1.00      1.00        32\n",
            "   Electrical Engineering       1.00      1.00      1.00        24\n",
            "                       HR       1.00      1.00      1.00        35\n",
            "                   Hadoop       1.00      1.00      1.00        34\n",
            "       Health and fitness       1.00      1.00      1.00        24\n",
            "           Java Developer       1.00      1.00      1.00        67\n",
            "      Mechanical Engineer       1.00      1.00      1.00        32\n",
            "Network Security Engineer       1.00      1.00      1.00        20\n",
            "       Operations Manager       1.00      1.00      1.00        32\n",
            "                      PMO       1.00      1.00      1.00        24\n",
            "         Python Developer       1.00      1.00      1.00        38\n",
            "            SAP Developer       1.00      1.00      1.00        19\n",
            "                    Sales       1.00      1.00      1.00        32\n",
            "                  Testing       1.00      1.00      1.00        56\n",
            "            Web Designing       1.00      1.00      1.00        36\n",
            "\n",
            "                 accuracy                           1.00       769\n",
            "                macro avg       1.00      1.00      1.00       769\n",
            "             weighted avg       1.00      1.00      1.00       769\n",
            "\n"
          ]
        }
      ]
    },
    {
      "cell_type": "code",
      "source": [
        "#Demo application to predict the category from a resume.\n",
        "!pip3 install flask\n",
        "!mkdir templates\n",
        "!touch templates/form.html\n",
        "!pip install flask-ngrok"
      ],
      "metadata": {
        "id": "Mie8I_56veQr",
        "colab": {
          "base_uri": "https://localhost:8080/"
        },
        "outputId": "6c149eb7-70df-492a-9fd7-cb67cf41a12b"
      },
      "execution_count": null,
      "outputs": [
        {
          "output_type": "stream",
          "name": "stdout",
          "text": [
            "Requirement already satisfied: flask in /usr/local/lib/python3.7/dist-packages (1.1.4)\n",
            "Requirement already satisfied: click<8.0,>=5.1 in /usr/local/lib/python3.7/dist-packages (from flask) (7.1.2)\n",
            "Requirement already satisfied: Jinja2<3.0,>=2.10.1 in /usr/local/lib/python3.7/dist-packages (from flask) (2.11.3)\n",
            "Requirement already satisfied: itsdangerous<2.0,>=0.24 in /usr/local/lib/python3.7/dist-packages (from flask) (1.1.0)\n",
            "Requirement already satisfied: Werkzeug<2.0,>=0.15 in /usr/local/lib/python3.7/dist-packages (from flask) (1.0.1)\n",
            "Requirement already satisfied: MarkupSafe>=0.23 in /usr/local/lib/python3.7/dist-packages (from Jinja2<3.0,>=2.10.1->flask) (2.0.1)\n",
            "Collecting flask-ngrok\n",
            "  Downloading flask_ngrok-0.0.25-py3-none-any.whl (3.1 kB)\n",
            "Requirement already satisfied: Flask>=0.8 in /usr/local/lib/python3.7/dist-packages (from flask-ngrok) (1.1.4)\n",
            "Requirement already satisfied: requests in /usr/local/lib/python3.7/dist-packages (from flask-ngrok) (2.23.0)\n",
            "Requirement already satisfied: Jinja2<3.0,>=2.10.1 in /usr/local/lib/python3.7/dist-packages (from Flask>=0.8->flask-ngrok) (2.11.3)\n",
            "Requirement already satisfied: click<8.0,>=5.1 in /usr/local/lib/python3.7/dist-packages (from Flask>=0.8->flask-ngrok) (7.1.2)\n",
            "Requirement already satisfied: itsdangerous<2.0,>=0.24 in /usr/local/lib/python3.7/dist-packages (from Flask>=0.8->flask-ngrok) (1.1.0)\n",
            "Requirement already satisfied: Werkzeug<2.0,>=0.15 in /usr/local/lib/python3.7/dist-packages (from Flask>=0.8->flask-ngrok) (1.0.1)\n",
            "Requirement already satisfied: MarkupSafe>=0.23 in /usr/local/lib/python3.7/dist-packages (from Jinja2<3.0,>=2.10.1->Flask>=0.8->flask-ngrok) (2.0.1)\n",
            "Requirement already satisfied: certifi>=2017.4.17 in /usr/local/lib/python3.7/dist-packages (from requests->flask-ngrok) (2021.10.8)\n",
            "Requirement already satisfied: urllib3!=1.25.0,!=1.25.1,<1.26,>=1.21.1 in /usr/local/lib/python3.7/dist-packages (from requests->flask-ngrok) (1.24.3)\n",
            "Requirement already satisfied: idna<3,>=2.5 in /usr/local/lib/python3.7/dist-packages (from requests->flask-ngrok) (2.10)\n",
            "Requirement already satisfied: chardet<4,>=3.0.2 in /usr/local/lib/python3.7/dist-packages (from requests->flask-ngrok) (3.0.4)\n",
            "Installing collected packages: flask-ngrok\n",
            "Successfully installed flask-ngrok-0.0.25\n"
          ]
        }
      ]
    },
    {
      "cell_type": "code",
      "source": [
        "!mkdir -p /drive/ngrok-ssh\n",
        "%cd /drive/ngrok-ssh\n",
        "!wget https://bin.equinox.io/c/4VmDzA7iaHb/ngrok-stable-linux-amd64.zip -O ngrok-stable-linux-amd64.zip\n",
        "!unzip -u ngrok-stable-linux-amd64.zip\n",
        "!cp /drive/ngrok-ssh/ngrok /ngrok\n",
        "!chmod +x /ngrok\n"
      ],
      "metadata": {
        "id": "M3a2sCo-m_PD",
        "colab": {
          "base_uri": "https://localhost:8080/"
        },
        "outputId": "9dff1c3e-2d76-47e2-9ac8-8f69a654e7fd"
      },
      "execution_count": null,
      "outputs": [
        {
          "output_type": "stream",
          "name": "stdout",
          "text": [
            "/drive/ngrok-ssh\n",
            "--2022-04-17 03:23:53--  https://bin.equinox.io/c/4VmDzA7iaHb/ngrok-stable-linux-amd64.zip\n",
            "Resolving bin.equinox.io (bin.equinox.io)... 18.205.222.128, 54.237.133.81, 54.161.241.46, ...\n",
            "Connecting to bin.equinox.io (bin.equinox.io)|18.205.222.128|:443... connected.\n",
            "HTTP request sent, awaiting response... 200 OK\n",
            "Length: 13832437 (13M) [application/octet-stream]\n",
            "Saving to: ‘ngrok-stable-linux-amd64.zip’\n",
            "\n",
            "ngrok-stable-linux- 100%[===================>]  13.19M  77.2MB/s    in 0.2s    \n",
            "\n",
            "2022-04-17 03:23:54 (77.2 MB/s) - ‘ngrok-stable-linux-amd64.zip’ saved [13832437/13832437]\n",
            "\n",
            "Archive:  ngrok-stable-linux-amd64.zip\n",
            "  inflating: ngrok                   \n"
          ]
        }
      ]
    },
    {
      "cell_type": "code",
      "source": [
        "!/ngrok authtoken 25ywMzqpozklabnajuJNCpGAE1A_VdeHYvBAH1pfgLRubg8e"
      ],
      "metadata": {
        "colab": {
          "base_uri": "https://localhost:8080/"
        },
        "id": "mjX8yZSZoYUl",
        "outputId": "122c5525-7c14-4d14-ef3f-bcb246be3582"
      },
      "execution_count": null,
      "outputs": [
        {
          "output_type": "stream",
          "name": "stdout",
          "text": [
            "Authtoken saved to configuration file: /root/.ngrok2/ngrok.yml\n"
          ]
        }
      ]
    },
    {
      "cell_type": "code",
      "source": [
        "def predict(data):\n",
        "  cleaned_data = cleanText(data)\n",
        "  print(cleaned_data)\n",
        "  WordFeatures = word_vectorizer.transform([cleaned_data])\n",
        "  print(WordFeatures.shape)\n",
        "  return clf.predict(WordFeatures)"
      ],
      "metadata": {
        "id": "Oa_bYBWNqv98"
      },
      "execution_count": null,
      "outputs": []
    },
    {
      "cell_type": "code",
      "source": [
        "data=\"\"\n",
        "with open('/content/drive/MyDrive/templates/test.txt') as f:\n",
        "    lines = f.readlines()\n",
        "    for line in lines:\n",
        "      clean_line = cleanText(line)\n",
        "      data = data+clean_line\n",
        "WordFeatures = word_vectorizer.transform([data])\n",
        "print(WordFeatures.shape)\n",
        "clf.predict(WordFeatures)"
      ],
      "metadata": {
        "colab": {
          "base_uri": "https://localhost:8080/"
        },
        "id": "DBuMJacRuNMG",
        "outputId": "293bd4bd-a11d-44c2-ba55-38981091ed5c"
      },
      "execution_count": null,
      "outputs": [
        {
          "output_type": "stream",
          "name": "stdout",
          "text": [
            "[' Skills  C C Python Shell Script TACC  MYSQL Redis  HTML CSS Corona Java Script Android  Robot Framework Django EXPERIENCE Arista Networks India Software Developer Oct 2020 present  Working on developing Ecn Wred Protocol on strata platforms for Trident4 chip set Juniper Networks India Software Developer II Jun 2019 Oct 2020  Developed an infrastructure to automate network configuration using Jinja 2 templates and python  Enabled multi queue virtio net support to enhance scalability and performance by allowing parallel packet processing Juniper Networks India Software Developer Jun 2017 Oct 2019  Developed Infrastructure for third party Virtual Network Functions VNF LXC life cycle management with an interactive command line interface for NFX series switches using libvirt KVM qemu environment  Developed Service chain Infrastructure involving SRIOV open vswitch Intel Dpdk for VNF communication  Implement port mirroring feature for health monitoring on NFX series switches Juniper Networks India Software Developer Intern Jan 2017 June 2017   Developed a Framework to identify optimal resource allocation on run time to achieve maximum throughput for any deployment scenario EDUCATION M S Ramaiah Institute Of Technology Bangalore B E CSE Aug 2013 Jun 2017 GPA 9 43 Academic Projects Regional Classifier Python Django Clustering of region mined from google maps using My Business API to decide viability of a location for a given commercial venture Wine Classifier R programming Classification using supervised learning on wine compositions by three different vendors Lexical Analyzer C Application based on concept of lexical analyzer in compiler design for python language Student Proctor System Java Java Script HTML CSS Proctor system for managing grades and attendance of students along with chat service AWARDS  Department Spotlight Award Recognized for solving critical performance issue in a customer deployment scenario  Awarded Best Executed project for developing an android application SOS to send distress signal at WinTathon Women in Tech Hackathon  Awarded 54th rank out of more than 50 thousand participants at Techgig geek goddess coding contest ']\n"
          ]
        }
      ]
    },
    {
      "cell_type": "code",
      "source": [
        "from flask import Flask, request,render_template\n",
        "from flask_ngrok import run_with_ngrok\n",
        "app = Flask(__name__, template_folder='/content/drive/MyDrive/templates')\n",
        "run_with_ngrok(app)\n",
        "\n",
        "@app.route('/', methods =[\"GET\", \"POST\"])\n",
        "def form_action():\n",
        "    if request.method == \"POST\":\n",
        "        resume = request.form.get(\"resume\")\n",
        "        label = predict(resume)\n",
        "        label_str = \"<h1>{}</h1>\".format(label)\n",
        "        return label_str\n",
        "    return render_template(\"form.html\")\n",
        "\n",
        "app.run()"
      ],
      "metadata": {
        "id": "4lI_PFrlmd5C",
        "colab": {
          "base_uri": "https://localhost:8080/"
        },
        "outputId": "af3b56cc-f699-4e6c-e2a0-e5707310ee7f"
      },
      "execution_count": null,
      "outputs": [
        {
          "output_type": "stream",
          "name": "stdout",
          "text": [
            " * Serving Flask app \"__main__\" (lazy loading)\n",
            " * Environment: production\n",
            "\u001b[31m   WARNING: This is a development server. Do not use it in a production deployment.\u001b[0m\n",
            "\u001b[2m   Use a production WSGI server instead.\u001b[0m\n",
            " * Debug mode: off\n"
          ]
        },
        {
          "output_type": "stream",
          "name": "stderr",
          "text": [
            " * Running on http://127.0.0.1:5000/ (Press CTRL+C to quit)\n"
          ]
        },
        {
          "output_type": "stream",
          "name": "stdout",
          "text": [
            " * Running on http://dc5d-34-85-238-135.ngrok.io\n",
            " * Traffic stats available on http://127.0.0.1:4040\n"
          ]
        },
        {
          "output_type": "stream",
          "name": "stderr",
          "text": [
            "127.0.0.1 - - [17/Apr/2022 03:36:59] \"\u001b[37mGET / HTTP/1.1\u001b[0m\" 200 -\n",
            "127.0.0.1 - - [17/Apr/2022 03:37:00] \"\u001b[37mGET / HTTP/1.1\u001b[0m\" 200 -\n",
            "127.0.0.1 - - [17/Apr/2022 03:37:02] \"\u001b[37mGET / HTTP/1.1\u001b[0m\" 200 -\n",
            "127.0.0.1 - - [17/Apr/2022 03:37:02] \"\u001b[33mGET /favicon.ico HTTP/1.1\u001b[0m\" 404 -\n",
            "127.0.0.1 - - [17/Apr/2022 03:37:05] \"\u001b[37mPOST / HTTP/1.1\u001b[0m\" 200 -\n"
          ]
        },
        {
          "output_type": "stream",
          "name": "stdout",
          "text": [
            "Education Master s In Computer Science University of Colorado Boulder GPA 4 4 sachin sachinsharma6174 Boulder CO May 2023 Expected Boulder CO May 2017 Bangalore India Sachin Sharma Bachelor s in Computer Science and Engineering M S Ramaiah Institute of Technology CGPA 8 96 10 0 Technical Skills Languages Python JAVA C C JavaScript SQL LaTeX Shell Databases MySQL PostgreSQL Elastic Search Redis Frameworks and Libraries SpringBoot REST Hibernate Flask Kafka RabbitMQ Mocktio Gradle Cloud GoogleCloud AutoML Cloud Functions AWS Lambda Heroku Tools and Software Linux Git Docker JIRA Kibana Jenkins Kubernetes NFS Knowledge Data Structures Algorithms Computer Networks Virtual Machines Distributed Systems ML AI Experience Software Engineer III Walmart Digital Pharmacy Jan 2021 Aug 2021 India Created microservice for various prescription Rx refill task with HIPAA compliance with over 85 test coverage Worked on integration of Cloud Configuration Management for microservices to support static and dynamic configuration and rule loading without restarting the application Software Engineer Paytm Money Oct 2018 Jan 2021 India Architected and developed Instant Redemption feature for Liquid Funds from scratch enabling users to redeem mutual funds in real time with a su ess rate of 98 Developed a micro service that uses AWS Lambda Redis and Elastic Search to support the rendering Minute and Hourly candles of Stocks Etfs and Options on Mobile and Web applications Developed various key features of Systematic Investment Plan SIP and designed a rule engine for automating investment using autopay API This impacted a million SIP transactions month Mentored and onboarded interns and new grads in the team assigned tasks and did code review Software Developer Ebix Travels Jun 2017 Oct 2018 India Built SBT Self Booking Tool a first of its type corporate Travel solution from scratch used to book Flight and Hotel itineraries via an approval flow Collaborated on all stages of the application development lifecycle Automated billing system to identify billing mismatch and issues in Invoices and Statement of A ounts which decreased Capital Losses and manual efforts by A ounts team Software Developer Intern Via Jan 2017 Jun 2017 India Constructed an Expense Management system for managing travel expenses of employees by travel admin Devised an interface enabling support team to regenerate insurance for a failed travel insurance Projects Medical Data Classification and Forecast Nov Dec 2021 Designed and developed a application which can ingest tabular data and generate a Tensor Flow model as a Docker image used it to predict Length of Stay of patients from a hospital dataset with an a uracy of 62 Sentimental Analysis Oct Nov 2021 Built a Backend system to do text sentimental analysis using a trained model on Cloudflare Deployed it on google cloud using docker and Google Kubernetes Optimized it further by using RabbitMQ as a queue for worker node National Pension Scheme NPS Aug Dec 2019 Built NPS from scratch at Paytm Money Played major role in gathering requirements designing implementing testing and making it live NPS application made 1000 transactions day during initial days of launch Achievements As the vice chair of the CU Boulder Computer Science Graduate Professional Development Club hosted problem solving sessions seminars and competitions Sept 2021 Present Hackerearth Coding Challenge International Rank 7 Leaderboard June 2015 HPE Hewlett Packard Enterprise Thinkathon Top 50 national finalist for two consecutive years Oct 2015 16\n",
            "(1, 7351)\n"
          ]
        },
        {
          "output_type": "stream",
          "name": "stderr",
          "text": [
            "127.0.0.1 - - [17/Apr/2022 03:37:39] \"\u001b[37mGET / HTTP/1.1\u001b[0m\" 200 -\n",
            "127.0.0.1 - - [17/Apr/2022 03:38:00] \"\u001b[37mPOST / HTTP/1.1\u001b[0m\" 200 -\n"
          ]
        },
        {
          "output_type": "stream",
          "name": "stdout",
          "text": [
            "Sachin Sharma Bachelor s in Computer Science and Engineering M S Ramaiah Institute of Technology CGPA 8 96 10 0 Technical Skills Languages Python JAVA C C JavaScript SQL LaTeX Shell Databases MySQL PostgreSQL Elastic Search Redis Frameworks and Libraries SpringBoot REST Hibernate Flask Kafka RabbitMQ Mocktio Gradle Cloud GoogleCloud AutoML Cloud Functions AWS Lambda Heroku Tools and Software Linux Git Docker JIRA Kibana Jenkins Kubernetes NFS Knowledge Data Structures Algorithms Computer Networks Virtual Machines Distributed Systems ML AI Experience Software Engineer III Walmart Digital Pharmacy Jan 2021 Aug 2021 India Created microservice for various prescription Rx refill task with HIPAA compliance with over 85 test coverage Worked on integration of Cloud Configuration Management for microservices to support static and dynamic configuration and rule loading without restarting the application Software Engineer Paytm Money Oct 2018 Jan 2021 India Architected and developed Instant Redemption feature for Liquid Funds from scratch enabling users to redeem mutual funds in real time with a su ess rate of 98 Developed a micro service that uses AWS Lambda Redis and Elastic Search to support the rendering Minute and Hourly candles of Stocks Etfs and Options on Mobile and Web applications Developed various key features of Systematic Investment Plan SIP and designed a rule engine for automating investment using autopay API This impacted a million SIP transactions month Mentored and onboarded interns and new grads in the team assigned tasks and did code review Software Developer Ebix Travels Jun 2017 Oct 2018 India Built SBT Self Booking Tool a first of its type corporate Travel solution from scratch used to book Flight and Hotel itineraries via an approval flow Collaborated on all stages of the application development lifecycle Automated billing system to identify billing mismatch and issues in Invoices and Statement of A ounts which decreased Capital Losses and manual efforts by A ounts team Software Developer Intern Via Jan 2017 Jun 2017 India Constructed an Expense Management system for managing travel expenses of employees by travel admin Devised an interface enabling support team to regenerate insurance for a failed travel insurance Projects Medical Data Classification and Forecast Nov Dec 2021 Designed and developed a application which can ingest tabular data and generate a Tensor Flow model as a Docker image used it to predict Length of Stay of patients from a hospital dataset with an a uracy of 62 Sentimental Analysis Oct Nov 2021 Built a Backend system to do text sentimental analysis using a trained model on Cloudflare Deployed it on google cloud using docker and Google Kubernetes Optimized it further by using RabbitMQ as a queue for worker node National Pension Scheme NPS Aug Dec 2019 Built NPS from scratch at Paytm Money Played major role in gathering requirements designing implementing testing and making it live NPS application made 1000 transactions day during initial days of launch Achievements As the vice chair of the CU Boulder Computer Science Graduate Professional Development Club hosted problem solving sessions seminars and competitions Sept 2021 Present Hackerearth Coding Challenge International Rank 7 Leaderboard June 2015 HPE Hewlett Packard Enterprise Thinkathon Top 50 national finalist for two consecutive years Oct 2015 16\n",
            "(1, 7351)\n"
          ]
        }
      ]
    }
  ]
}